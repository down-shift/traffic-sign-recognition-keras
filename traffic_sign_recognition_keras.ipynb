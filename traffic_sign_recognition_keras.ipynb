{
  "nbformat": 4,
  "nbformat_minor": 0,
  "metadata": {
    "colab": {
      "name": "traffic_sign_recognition_keras.ipynb",
      "provenance": [],
      "collapsed_sections": [
        "PGBkModwBzC1",
        "v5UXqJSsCJk3",
        "XxDWntOMCW5e",
        "z5eQnCPCKoMq"
      ]
    },
    "kernelspec": {
      "name": "python3",
      "display_name": "Python 3"
    },
    "language_info": {
      "name": "python"
    }
  },
  "cells": [
    {
      "cell_type": "code",
      "source": [
        "import numpy as np\n",
        "import pandas as pd\n",
        "import tensorflow as tf"
      ],
      "metadata": {
        "id": "TwmWXMcNyc76"
      },
      "execution_count": 1,
      "outputs": []
    },
    {
      "cell_type": "code",
      "execution_count": 2,
      "metadata": {
        "id": "wojmAC5MyWdj"
      },
      "outputs": [],
      "source": [
        "import keras\n",
        "from keras.models import Sequential\n",
        "from keras.layers.convolutional import Conv2D\n",
        "from keras.layers.convolutional import MaxPooling2D\n",
        "from keras.layers.core import Activation\n",
        "from keras.layers.core import Flatten\n",
        "from keras.layers.core import Dense\n",
        "from keras import backend as K\n",
        "from tensorflow.keras.optimizers import SGD, Adam\n",
        "from keras.utils import np_utils\n",
        "from keras.layers.advanced_activations import LeakyReLU"
      ]
    },
    {
      "cell_type": "code",
      "source": [
        "from google.colab import drive\n",
        "drive.mount('/content/drive')"
      ],
      "metadata": {
        "colab": {
          "base_uri": "https://localhost:8080/"
        },
        "id": "Qt3SytW01ZCP",
        "outputId": "21c99ebb-0a41-4b59-8b17-336d8085a99d"
      },
      "execution_count": 3,
      "outputs": [
        {
          "output_type": "stream",
          "name": "stdout",
          "text": [
            "Mounted at /content/drive\n"
          ]
        }
      ]
    },
    {
      "cell_type": "code",
      "source": [
        "data_path = '/content/drive/MyDrive/Colab Notebooks/data_ats_1/images'\n",
        "test_data_path = '/content/drive/MyDrive/Colab Notebooks/data_ats_1/test_images'\n",
        "folders = ['artificial roughness', 'give way', 'movement prohibition', 'no entry', 'parking', \n",
        "           'pedestrian crossing', 'road works', 'stop']"
      ],
      "metadata": {
        "id": "XMrLO9PyTpWx"
      },
      "execution_count": 4,
      "outputs": []
    },
    {
      "cell_type": "markdown",
      "source": [
        "## Предобработка данных"
      ],
      "metadata": {
        "id": "nUoK9W9CDYCP"
      }
    },
    {
      "cell_type": "code",
      "source": [
        "import os\n",
        "import glob\n",
        "\n",
        "files = {}\n",
        "for f in folders:\n",
        "  files[f] = glob.glob(os.path.join(data_path, f, '*.jpg'))"
      ],
      "metadata": {
        "id": "wtpFUOxtUqA2"
      },
      "execution_count": 5,
      "outputs": []
    },
    {
      "cell_type": "code",
      "source": [
        "import cv2\n",
        "img = cv2.imread(files[f][0]) \n",
        "img[0][0]"
      ],
      "metadata": {
        "colab": {
          "base_uri": "https://localhost:8080/"
        },
        "id": "9EY9kHXKaOVL",
        "outputId": "abbd7ab3-9007-4162-b173-c00fcaf2cc78"
      },
      "execution_count": 6,
      "outputs": [
        {
          "output_type": "execute_result",
          "data": {
            "text/plain": [
              "array([  0,  88, 139], dtype=uint8)"
            ]
          },
          "metadata": {},
          "execution_count": 6
        }
      ]
    },
    {
      "cell_type": "code",
      "source": [
        "from PIL import Image, ImageEnhance, ImageOps\n",
        "from matplotlib import cm\n",
        "\n",
        "def preprocess_image(img):\n",
        "  img = cv2.resize(img, (50, 50))\n",
        "  pil_img = Image.fromarray((img * 255).astype(np.uint8))\n",
        "  enhancer = ImageEnhance.Contrast(pil_img)\n",
        "  factor = 2\n",
        "  pil_img = enhancer.enhance(factor)\n",
        "  pil_img = ImageOps.invert(pil_img)\n",
        "  img = np.asarray(pil_img)\n",
        "  img = cv2.GaussianBlur(img, (3, 3), 5)\n",
        "  return img\n",
        "  # enhance contrast"
      ],
      "metadata": {
        "id": "b0ZWOJM3aPpx"
      },
      "execution_count": 7,
      "outputs": []
    },
    {
      "cell_type": "code",
      "source": [
        "import cv2\n",
        "from google.colab.patches import cv2_imshow \n",
        "\n",
        "data = pd.DataFrame(columns=['image', 'label'])\n",
        "images, labels = [], []\n",
        "for f in folders:\n",
        "  for cnt, i in enumerate(files[f]):\n",
        "    img = cv2.imread(i)\n",
        "    img = preprocess_image(img)\n",
        "    #cv2_imshow(img)\n",
        "    images.append(np.asarray(img).astype('float32'))\n",
        "    labels.append(f)\n",
        "  print(f, 'folder processed')\n",
        "data['image'] = pd.Series(images)\n",
        "data['label'] = pd.Series(labels)"
      ],
      "metadata": {
        "colab": {
          "base_uri": "https://localhost:8080/"
        },
        "id": "NOCyEzjCVjp3",
        "outputId": "abdfdeae-f991-4171-82e3-07862b964e03"
      },
      "execution_count": 8,
      "outputs": [
        {
          "output_type": "stream",
          "name": "stdout",
          "text": [
            "artificial roughness folder processed\n",
            "give way folder processed\n",
            "movement prohibition folder processed\n",
            "no entry folder processed\n",
            "parking folder processed\n",
            "pedestrian crossing folder processed\n",
            "road works folder processed\n",
            "stop folder processed\n"
          ]
        }
      ]
    },
    {
      "cell_type": "code",
      "source": [
        "new_imgs = images.copy()\n",
        "new_imgs = np.asarray(new_imgs)\n",
        "new_imgs.shape"
      ],
      "metadata": {
        "id": "7WGrjUsp0bjp"
      },
      "execution_count": 9,
      "outputs": []
    },
    {
      "cell_type": "code",
      "source": [
        "def one_hot_encode(label):\n",
        "    one_hot_label_dictionary = {\"no entry\": [1, 0, 0, 0, 0, 0, 0, 0],\n",
        "                                \"pedestrian crossing\": [0, 1, 0, 0, 0, 0, 0, 0],\n",
        "                                \"road works\": [0, 0, 1, 0, 0, 0, 0, 0],\n",
        "                                \"movement prohibition\": [0, 0, 0, 1, 0, 0, 0, 0],\n",
        "                                \"parking\": [0, 0, 0, 0, 1, 0, 0, 0],\n",
        "                                \"stop\": [0, 0, 0, 0, 0, 1, 0, 0],\n",
        "                                \"give way\": [0, 0, 0, 0, 0, 0, 1, 0],\n",
        "                                \"artificial roughness\": [0, 0, 0, 0, 0, 0, 0, 1]}\n",
        "\n",
        "    one_hot_encoded = one_hot_label_dictionary[label]\n",
        "    return one_hot_encoded"
      ],
      "metadata": {
        "id": "U4gDFi7-4_Bv"
      },
      "execution_count": 10,
      "outputs": []
    },
    {
      "cell_type": "code",
      "source": [
        "new_labels = np.asarray(labels).reshape((-1, 1))\n",
        "new_labels.shape"
      ],
      "metadata": {
        "colab": {
          "base_uri": "https://localhost:8080/"
        },
        "id": "JmXNRXxv3di-",
        "outputId": "2db2500b-d33d-4094-d2fa-217d636e5f07"
      },
      "execution_count": 12,
      "outputs": [
        {
          "output_type": "execute_result",
          "data": {
            "text/plain": [
              "(2481, 1)"
            ]
          },
          "metadata": {},
          "execution_count": 12
        }
      ]
    },
    {
      "cell_type": "code",
      "source": [
        "new_labels"
      ],
      "metadata": {
        "colab": {
          "base_uri": "https://localhost:8080/"
        },
        "id": "yMMYTUmO4wWv",
        "outputId": "76eaa8cf-3790-45b1-c379-87f9480bfb99"
      },
      "execution_count": 13,
      "outputs": [
        {
          "output_type": "execute_result",
          "data": {
            "text/plain": [
              "array([['artificial roughness'],\n",
              "       ['artificial roughness'],\n",
              "       ['artificial roughness'],\n",
              "       ...,\n",
              "       ['stop'],\n",
              "       ['stop'],\n",
              "       ['stop']], dtype='<U20')"
            ]
          },
          "metadata": {},
          "execution_count": 13
        }
      ]
    },
    {
      "cell_type": "code",
      "source": [
        "new_l = np.empty((2481, 8))\n",
        "for i in range(len(new_labels)):\n",
        "  new_l[i] = one_hot_encode(new_labels[i][0])"
      ],
      "metadata": {
        "id": "yj14CPNylnrq"
      },
      "execution_count": 16,
      "outputs": []
    },
    {
      "cell_type": "code",
      "source": [
        "new_l"
      ],
      "metadata": {
        "colab": {
          "base_uri": "https://localhost:8080/"
        },
        "id": "mJulGufRkzEK",
        "outputId": "dbb4793f-af7d-44fc-e7c5-18a575fa36c5"
      },
      "execution_count": 17,
      "outputs": [
        {
          "output_type": "execute_result",
          "data": {
            "text/plain": [
              "array([[0., 0., 0., ..., 0., 0., 1.],\n",
              "       [0., 0., 0., ..., 0., 0., 1.],\n",
              "       [0., 0., 0., ..., 0., 0., 1.],\n",
              "       ...,\n",
              "       [0., 0., 0., ..., 1., 0., 0.],\n",
              "       [0., 0., 0., ..., 1., 0., 0.],\n",
              "       [0., 0., 0., ..., 1., 0., 0.]])"
            ]
          },
          "metadata": {},
          "execution_count": 17
        }
      ]
    },
    {
      "cell_type": "code",
      "source": [
        "from sklearn.model_selection import train_test_split\n",
        "\n",
        "X_train, X_val, y_train, y_val = train_test_split(new_imgs, new_l, test_size=0.2, random_state=56)\n",
        "y_train.shape"
      ],
      "metadata": {
        "colab": {
          "base_uri": "https://localhost:8080/"
        },
        "id": "TtiyUbpwpGRw",
        "outputId": "903cd683-81fc-40f3-a78f-366696593b4c"
      },
      "execution_count": 18,
      "outputs": [
        {
          "output_type": "execute_result",
          "data": {
            "text/plain": [
              "(1984, 8)"
            ]
          },
          "metadata": {},
          "execution_count": 18
        }
      ]
    },
    {
      "cell_type": "code",
      "source": [
        "X_train.shape"
      ],
      "metadata": {
        "colab": {
          "base_uri": "https://localhost:8080/"
        },
        "id": "3OivNSVxreTh",
        "outputId": "3969a7b5-64de-42fa-d1e0-73330b1a71af"
      },
      "execution_count": 19,
      "outputs": [
        {
          "output_type": "execute_result",
          "data": {
            "text/plain": [
              "(1984, 50, 50, 3)"
            ]
          },
          "metadata": {},
          "execution_count": 19
        }
      ]
    },
    {
      "cell_type": "markdown",
      "source": [
        "## Модель LeNet-5 на Keras"
      ],
      "metadata": {
        "id": "-15GvLBkC1B_"
      }
    },
    {
      "cell_type": "code",
      "source": [
        "class LeNet:\n",
        "  def build(df_size, channels, rows, cols, classes, activation='relu'):\n",
        "    if K.image_data_format() == \"channels_first\":\n",
        "      input_shape = (channels, rows, cols, df_size)\n",
        "    else:\n",
        "      input_shape = (rows, cols, channels)\n",
        "    \n",
        "    model = Sequential([\n",
        "            Conv2D(20, 5, padding=\"same\", input_shape=input_shape),\n",
        "            Activation(activation),\n",
        "            MaxPooling2D(pool_size=(2, 2), strides=(2, 2)),\n",
        "            Conv2D(50, 5, padding=\"same\"),\n",
        "            Activation(activation),\n",
        "            MaxPooling2D(pool_size=(2, 2), strides=(2, 2)),\n",
        "            Flatten(),\n",
        "            Dense(500),\n",
        "            Activation(activation),\n",
        "            Dense(classes),\n",
        "            Activation('softmax')\n",
        "    ])\n",
        "\n",
        "    return model"
      ],
      "metadata": {
        "id": "YWQ5Dh4Uymq9"
      },
      "execution_count": 20,
      "outputs": []
    },
    {
      "cell_type": "code",
      "source": [
        "def recall_metrics(y_true, y_pred):\n",
        "    true_positives = K.sum(K.round(K.clip(y_true * y_pred, 0, 1)))\n",
        "    possible_positives = K.sum(K.round(K.clip(y_true, 0, 1)))\n",
        "    recall = true_positives / (possible_positives + K.epsilon())\n",
        "    return recall\n",
        "\n",
        "def precision_metrics(y_true, y_pred):\n",
        "    true_positives = K.sum(K.round(K.clip(y_true * y_pred, 0, 1)))\n",
        "    predicted_positives = K.sum(K.round(K.clip(y_pred, 0, 1)))\n",
        "    precision = true_positives / (predicted_positives + K.epsilon())\n",
        "    return precision\n",
        "\n",
        "def f1_metrics(y_true, y_pred):\n",
        "    precision = precision_metrics(y_true, y_pred)\n",
        "    recall = recall_metrics(y_true, y_pred)\n",
        "    return 2*((precision*recall)/(precision+recall+K.epsilon()))"
      ],
      "metadata": {
        "id": "biig-9S-0qDZ"
      },
      "execution_count": 21,
      "outputs": []
    },
    {
      "cell_type": "code",
      "source": [
        "model = LeNet.build(2481, 3, 50, 50, 8)"
      ],
      "metadata": {
        "id": "JVuoxkQHzq5j"
      },
      "execution_count": 22,
      "outputs": []
    },
    {
      "cell_type": "code",
      "source": [
        "optimizer = Adam(learning_rate=0.001)\n",
        "model.compile(optimizer=optimizer, loss='binary_crossentropy', metrics=['accuracy', f1_metrics])"
      ],
      "metadata": {
        "id": "fk03dhj1z1kK"
      },
      "execution_count": 23,
      "outputs": []
    },
    {
      "cell_type": "code",
      "source": [
        "import tensorflow as tf\n",
        "tf.config.run_functions_eagerly(True)"
      ],
      "metadata": {
        "id": "ss2jowuGmizb"
      },
      "execution_count": 24,
      "outputs": []
    },
    {
      "cell_type": "code",
      "source": [
        "history = model.fit(X_train, y_train, epochs=10, batch_size=20, validation_data=(X_val, y_val))"
      ],
      "metadata": {
        "id": "dE5xPMFZ0yv3",
        "colab": {
          "base_uri": "https://localhost:8080/"
        },
        "outputId": "5bd04f71-a55c-4889-a655-18be0ce60225"
      },
      "execution_count": 25,
      "outputs": [
        {
          "output_type": "stream",
          "name": "stderr",
          "text": [
            "/usr/local/lib/python3.7/dist-packages/tensorflow/python/data/ops/dataset_ops.py:4527: UserWarning: Even though the `tf.config.experimental_run_functions_eagerly` option is set, this option does not apply to tf.data functions. To force eager execution of tf.data functions, please use `tf.data.experimental.enable_debug_mode()`.\n",
            "  \"Even though the `tf.config.experimental_run_functions_eagerly` \"\n"
          ]
        },
        {
          "output_type": "stream",
          "name": "stdout",
          "text": [
            "Epoch 1/10\n",
            "100/100 [==============================] - 22s 211ms/step - loss: 0.9179 - accuracy: 0.8165 - f1_metrics: 0.8165 - val_loss: 0.0879 - val_accuracy: 0.9256 - val_f1_metrics: 0.9278\n",
            "Epoch 2/10\n",
            "100/100 [==============================] - 20s 205ms/step - loss: 0.0217 - accuracy: 0.9814 - f1_metrics: 0.9817 - val_loss: 0.0128 - val_accuracy: 0.9920 - val_f1_metrics: 0.9919\n",
            "Epoch 3/10\n",
            "100/100 [==============================] - 21s 213ms/step - loss: 0.0060 - accuracy: 0.9970 - f1_metrics: 0.9972 - val_loss: 0.0229 - val_accuracy: 0.9759 - val_f1_metrics: 0.9770\n",
            "Epoch 4/10\n",
            "100/100 [==============================] - 21s 207ms/step - loss: 0.0030 - accuracy: 0.9990 - f1_metrics: 0.9990 - val_loss: 0.0134 - val_accuracy: 0.9899 - val_f1_metrics: 0.9910\n",
            "Epoch 5/10\n",
            "100/100 [==============================] - 21s 210ms/step - loss: 0.0041 - accuracy: 0.9980 - f1_metrics: 0.9980 - val_loss: 0.0164 - val_accuracy: 0.9859 - val_f1_metrics: 0.9879\n",
            "Epoch 6/10\n",
            "100/100 [==============================] - 20s 205ms/step - loss: 0.0199 - accuracy: 0.9859 - f1_metrics: 0.9860 - val_loss: 0.0281 - val_accuracy: 0.9859 - val_f1_metrics: 0.9856\n",
            "Epoch 7/10\n",
            "100/100 [==============================] - 20s 205ms/step - loss: 0.0335 - accuracy: 0.9778 - f1_metrics: 0.9784 - val_loss: 0.0211 - val_accuracy: 0.9879 - val_f1_metrics: 0.9880\n",
            "Epoch 8/10\n",
            "100/100 [==============================] - 20s 204ms/step - loss: 0.0075 - accuracy: 0.9970 - f1_metrics: 0.9970 - val_loss: 0.0126 - val_accuracy: 0.9940 - val_f1_metrics: 0.9940\n",
            "Epoch 9/10\n",
            "100/100 [==============================] - 19s 193ms/step - loss: 0.0021 - accuracy: 0.9990 - f1_metrics: 0.9990 - val_loss: 0.0105 - val_accuracy: 0.9960 - val_f1_metrics: 0.9960\n",
            "Epoch 10/10\n",
            "100/100 [==============================] - 21s 205ms/step - loss: 0.0141 - accuracy: 0.9904 - f1_metrics: 0.9905 - val_loss: 0.0901 - val_accuracy: 0.9698 - val_f1_metrics: 0.9709\n"
          ]
        }
      ]
    },
    {
      "cell_type": "code",
      "source": [
        "def standardize_output(label):\n",
        "    out = [0 for _ in range(8)]\n",
        "    label = list(label)\n",
        "    id = label.index(max(label)) \n",
        "    out[id] = 1\n",
        "    print(out)\n",
        "    return out"
      ],
      "metadata": {
        "id": "fN9chQ-g4wfC"
      },
      "execution_count": 26,
      "outputs": []
    },
    {
      "cell_type": "code",
      "source": [
        "y_pred = model.predict(X_val)\n",
        "y_st = []\n",
        "for label in y_pred:\n",
        "  y_st.append(standardize_output(label))"
      ],
      "metadata": {
        "id": "GH2HjoHd7h88"
      },
      "execution_count": null,
      "outputs": []
    },
    {
      "cell_type": "code",
      "source": [
        "true_cnt = 0\n",
        "for true_label, pred_label in zip(y_val, y_st):\n",
        "  if list(true_label) == pred_label:\n",
        "    true_cnt += 1\n",
        "print('Точность:', true_cnt / len(y_val))"
      ],
      "metadata": {
        "colab": {
          "base_uri": "https://localhost:8080/"
        },
        "id": "K0vx7OS_7z06",
        "outputId": "4d0e72f9-b2e3-4ab9-8d02-0143ef2171f0"
      },
      "execution_count": 28,
      "outputs": [
        {
          "output_type": "stream",
          "name": "stdout",
          "text": [
            "Точность: 0.9698189134808853\n"
          ]
        }
      ]
    },
    {
      "cell_type": "markdown",
      "source": [
        "## Сохранение нейронки"
      ],
      "metadata": {
        "id": "RsAiHme0nHGT"
      }
    },
    {
      "cell_type": "code",
      "source": [
        "model.save('/content/drive/MyDrive/Colab Notebooks/data_ats_2/model_keras_1')"
      ],
      "metadata": {
        "colab": {
          "base_uri": "https://localhost:8080/"
        },
        "id": "MSD6QHc5nGlT",
        "outputId": "3616238f-5f11-41d8-828b-d1ae4e136417"
      },
      "execution_count": null,
      "outputs": [
        {
          "output_type": "stream",
          "name": "stdout",
          "text": [
            "INFO:tensorflow:Assets written to: /content/drive/MyDrive/Colab Notebooks/data_ats_2/model_keras_1/assets\n"
          ]
        }
      ]
    },
    {
      "cell_type": "markdown",
      "source": [
        "## Загрузка модели Keras"
      ],
      "metadata": {
        "id": "30Vp3QGc4spE"
      }
    },
    {
      "cell_type": "code",
      "source": [
        "model = tf.keras.models.load_model('/content/drive/MyDrive/Colab Notebooks/data_ats_2/model_keras_1')"
      ],
      "metadata": {
        "id": "DWFE7EOu3yiu"
      },
      "execution_count": null,
      "outputs": []
    }
  ]
}